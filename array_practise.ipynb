{
 "cells": [
  {
   "cell_type": "markdown",
   "metadata": {},
   "source": [
    "# Maximum sum subarray\n"
   ]
  },
  {
   "cell_type": "code",
   "execution_count": 11,
   "metadata": {},
   "outputs": [
    {
     "name": "stdout",
     "output_type": "stream",
     "text": [
      "[4, 7, -1, 6, -11, 14, 2, -6]\n"
     ]
    }
   ],
   "source": [
    "L = [-2,4,7,-1,6,-11,14,3-1,-6]\n",
    "\n",
    "sum_dict = {}\n",
    "\n",
    "for i in range(len(L)):\n",
    "    subarray = []\n",
    "    \n",
    "    for j in range(i,len(L)):\n",
    "        subarray.append(L[j])\n",
    "        sum_dict[sum(subarray)] =subarray\n",
    "\n",
    "max_val = max(sum_dict.keys())\n",
    "\n",
    "for i in sum_dict:\n",
    "    if i == max_val:\n",
    "        print(sum_dict[i])\n",
    "        "
   ]
  },
  {
   "cell_type": "markdown",
   "metadata": {},
   "source": [
    "# find element with left side smalller / right side greater in an array\n"
   ]
  },
  {
   "cell_type": "code",
   "execution_count": 22,
   "metadata": {},
   "outputs": [
    {
     "name": "stdout",
     "output_type": "stream",
     "text": [
      "5\n"
     ]
    }
   ],
   "source": [
    "L = [3,1,2,5,8,7,9]\n",
    "num = 0\n",
    "for i in range(1, len(L) -1):\n",
    "    for j in range(i):\n",
    "        if L[i] > L[j]:\n",
    "            num = 0\n",
    "        else:\n",
    "            num = i\n",
    "            break\n",
    "    if num == 0:\n",
    "        for j in range(i,len(L) -1):\n",
    "            if L[i] < L[j]:\n",
    "                num = 0\n",
    "                print(\"Value of num {j} in {i} iteration\")\n",
    "            else:\n",
    "                num = i\n",
    "                break\n",
    "\n",
    "\n",
    "print(num)\n",
    "        "
   ]
  },
  {
   "cell_type": "code",
   "execution_count": 23,
   "metadata": {},
   "outputs": [
    {
     "name": "stdout",
     "output_type": "stream",
     "text": [
      "5\n"
     ]
    }
   ],
   "source": [
    "L = [3,1,2,5,8,7,9]\n",
    "\n",
    "for i in range(1,len(L) -1):\n",
    "    if max(L[:i]) < L[i] < min(L[i+1:]):\n",
    "        print(L[i])"
   ]
  },
  {
   "cell_type": "code",
   "execution_count": 30,
   "metadata": {},
   "outputs": [
    {
     "name": "stdout",
     "output_type": "stream",
     "text": [
      "5\n"
     ]
    }
   ],
   "source": [
    "L = [3,1,2,5,8,7,9]\n",
    "\n",
    "max_arr = []\n",
    "min_arr = []\n",
    "max_val = L[0]\n",
    "min_val = L[-1]\n",
    "\n",
    "for i in L:\n",
    "    if i > max_val:\n",
    "        max_val = i\n",
    "    max_arr.append(max_val)\n",
    "\n",
    "for i in range(len(L)-1, -1, -1):\n",
    "    if L[i] < min_val:\n",
    "        min_val = L[i]\n",
    "    min_arr.insert(0,min_val)\n",
    "    \n",
    "for i in range(1, len(L) -1):\n",
    "    if max_arr[i-1] < L[i] < min_arr[i+1]:\n",
    "        print(L[i])"
   ]
  },
  {
   "cell_type": "markdown",
   "metadata": {},
   "source": [
    "# find continous subarray with a given sum(given non-negative nmbers)\n",
    "\n",
    "# return the starting and ending index of the subarray\n",
    "\n",
    "# return 1st subarray in case of multiple\n"
   ]
  },
  {
   "cell_type": "code",
   "execution_count": null,
   "metadata": {},
   "outputs": [],
   "source": [
    "L = [1,22,13,7,9,11,10]\n",
    "\n",
    "s = 35\n",
    "\n",
    "d = {}\n",
    "\n",
    "curr_sum = 0\n",
    "\n",
    "for i in range(len(L)):\n",
    "    curr_sum = curr_sum + L[i]\n",
    "    \n",
    "    if (curr_sum - s) in d:\n",
    "        print(d[curr_sum - s] + 1, i)\n",
    "        break\n",
    "    d[curr_sum] = i"
   ]
  },
  {
   "cell_type": "markdown",
   "metadata": {},
   "source": [
    "# find the intersection between two sorted array\n"
   ]
  },
  {
   "cell_type": "code",
   "execution_count": 34,
   "metadata": {},
   "outputs": [
    {
     "name": "stdout",
     "output_type": "stream",
     "text": [
      "3\n",
      "8\n"
     ]
    }
   ],
   "source": [
    "a = [1,2,3,4,5,8]\n",
    "b = [3,6,7,8]\n",
    "i = j = 0\n",
    "while i < len(a) and j < len(b):\n",
    "    if a[i] == b[j]:\n",
    "        print(a[i])\n",
    "        i+= 1\n",
    "        j += 1\n",
    "    elif a[i] > b[j]:\n",
    "        j+= 1\n",
    "    else:\n",
    "        i += 1"
   ]
  },
  {
   "cell_type": "markdown",
   "metadata": {},
   "source": [
    "# rotate array to left d iteam\n"
   ]
  },
  {
   "cell_type": "code",
   "execution_count": 35,
   "metadata": {},
   "outputs": [
    {
     "name": "stdout",
     "output_type": "stream",
     "text": [
      "[3, 4, 5, 1, 2]\n"
     ]
    }
   ],
   "source": [
    "L = [1,2,3,4,5]\n",
    "\n",
    "rotate = 2\n",
    "\n",
    "for i in range(rotate):\n",
    "    head = L[0]\n",
    "    L.pop(0)\n",
    "    L.append(head)\n",
    "print(L)"
   ]
  },
  {
   "cell_type": "code",
   "execution_count": 36,
   "metadata": {},
   "outputs": [
    {
     "data": {
      "text/plain": [
       "3"
      ]
     },
     "execution_count": 36,
     "metadata": {},
     "output_type": "execute_result"
    }
   ],
   "source": [
    "L[0]"
   ]
  },
  {
   "cell_type": "markdown",
   "metadata": {},
   "source": [
    "# Find the douplicate in the given array\n"
   ]
  },
  {
   "cell_type": "code",
   "execution_count": 37,
   "metadata": {},
   "outputs": [
    {
     "name": "stdout",
     "output_type": "stream",
     "text": [
      "{1: 2, 2: 1, 3: 1, 4: 2, 5: 2}\n"
     ]
    }
   ],
   "source": [
    "L = [1,1,2,3,4,4,5,5]\n",
    "\n",
    "shorted_array = sorted(L)\n",
    "\n",
    "dict_arr = {}\n",
    "\n",
    "for I in shorted_array:\n",
    "    counter  = L.count(I)\n",
    "    dict_arr.update({I : counter})\n",
    "\n",
    "print(dict_arr)"
   ]
  },
  {
   "cell_type": "markdown",
   "metadata": {},
   "source": [
    "# Garbage collection\n"
   ]
  },
  {
   "cell_type": "code",
   "execution_count": 4,
   "metadata": {},
   "outputs": [],
   "source": [
    "a = \"Gaurav\"\n",
    "b = a\n",
    "c = b"
   ]
  },
  {
   "cell_type": "code",
   "execution_count": 5,
   "metadata": {},
   "outputs": [
    {
     "data": {
      "text/plain": [
       "11"
      ]
     },
     "execution_count": 5,
     "metadata": {},
     "output_type": "execute_result"
    }
   ],
   "source": [
    "import sys \n",
    "sys.getrefcount(\"Gaurav\")"
   ]
  },
  {
   "cell_type": "code",
   "execution_count": 6,
   "metadata": {},
   "outputs": [],
   "source": [
    "# Python does the all the work of garbage collection by itself as developers dont have the strangth to work with memory unlike c"
   ]
  },
  {
   "cell_type": "markdown",
   "metadata": {},
   "source": [
    "# Cloning\n"
   ]
  },
  {
   "cell_type": "code",
   "execution_count": 7,
   "metadata": {},
   "outputs": [
    {
     "name": "stdout",
     "output_type": "stream",
     "text": [
      "2437540616896\n",
      "2437543989952\n"
     ]
    }
   ],
   "source": [
    "a = [1,2,3]\n",
    " # cloning\n",
    "b = a[:] # shallow copy\n",
    "\n",
    "print(id(a))\n",
    "print(id(b))\n"
   ]
  },
  {
   "cell_type": "markdown",
   "metadata": {},
   "source": [
    "Deep and shallow cloning\n"
   ]
  },
  {
   "cell_type": "code",
   "execution_count": 12,
   "metadata": {},
   "outputs": [
    {
     "name": "stdout",
     "output_type": "stream",
     "text": [
      "[1, 2, [300, 4]] [5, 2, [300, 4]]\n"
     ]
    }
   ],
   "source": [
    "import copy\n",
    "a = [1,2,[3,4]]\n",
    "b = a.copy()\n",
    "b[0] = 5\n",
    "b[-1][0] = 300\n",
    "print(a,b)"
   ]
  },
  {
   "cell_type": "code",
   "execution_count": 16,
   "metadata": {},
   "outputs": [
    {
     "name": "stdout",
     "output_type": "stream",
     "text": [
      "[1, 2, [3, 4]] [1, 2, [300, 4]]\n"
     ]
    }
   ],
   "source": [
    "import copy\n",
    "a = [1,2,[3,4]]\n",
    "b = copy.deepcopy(a)\n",
    "b[-1][0] = 300\n",
    "print(a,b)"
   ]
  },
  {
   "cell_type": "code",
   "execution_count": null,
   "metadata": {},
   "outputs": [],
   "source": []
  }
 ],
 "metadata": {
  "kernelspec": {
   "display_name": "Python 3",
   "language": "python",
   "name": "python3"
  },
  "language_info": {
   "codemirror_mode": {
    "name": "ipython",
    "version": 3
   },
   "file_extension": ".py",
   "mimetype": "text/x-python",
   "name": "python",
   "nbconvert_exporter": "python",
   "pygments_lexer": "ipython3",
   "version": "3.10.11"
  }
 },
 "nbformat": 4,
 "nbformat_minor": 2
}
