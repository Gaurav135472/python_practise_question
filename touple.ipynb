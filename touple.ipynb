{
 "cells": [
  {
   "cell_type": "markdown",
   "metadata": {},
   "source": [
    "# join touple of similar initial element\n"
   ]
  },
  {
   "cell_type": "code",
   "execution_count": 4,
   "metadata": {},
   "outputs": [
    {
     "name": "stdout",
     "output_type": "stream",
     "text": [
      "[[5, 6, 7], [6, 8, 10, 7], [7, 13]]\n"
     ]
    }
   ],
   "source": [
    "test_list = [(5,6), (6,8) , (6,10), (6,7), (7,13), (5,7)]\n",
    "\n",
    "new_list = {}\n",
    "\n",
    "for i in test_list:\n",
    "    \n",
    "    if i[0] in new_list:\n",
    "        new_list[i[0]].append(i[1])\n",
    "    else:\n",
    "        new_list[i[0]] = [i[1]]\n",
    "        \n",
    "# Convert dictionary to list of lists\n",
    "grouped_list = [[key] + values for key, values in new_list.items()]\n",
    "\n",
    "print(grouped_list)\n"
   ]
  },
  {
   "cell_type": "code",
   "execution_count": 8,
   "metadata": {},
   "outputs": [
    {
     "name": "stdout",
     "output_type": "stream",
     "text": [
      "(5, 40, 91, 136, 80)\n"
     ]
    }
   ],
   "source": [
    "original_touple = (1,5,7,8,10)\n",
    "\n",
    "new_touple = ()\n",
    "\n",
    "for i in range(1,len(original_touple) - 1):\n",
    "    left = original_touple[i] * original_touple[i-1]\n",
    "    right = original_touple[i] * original_touple[i+1]\n",
    "    newVal = left + right\n",
    "    new_touple = new_touple + (newVal,)\n",
    "\n",
    "new_touple = (original_touple[0]*original_touple[1],) + new_touple\n",
    "\n",
    "new_touple = new_touple + (original_touple[-1] * original_touple[-2],)\n",
    "\n",
    "print(new_touple)"
   ]
  },
  {
   "cell_type": "markdown",
   "metadata": {},
   "source": [
    "# whether two touple are same or not\n"
   ]
  },
  {
   "cell_type": "code",
   "execution_count": 12,
   "metadata": {},
   "outputs": [
    {
     "name": "stdout",
     "output_type": "stream",
     "text": [
      "These are same\n"
     ]
    }
   ],
   "source": [
    "t1 = (0,3,2,1)\n",
    "\n",
    "t2 = (0,3,2,1)\n",
    "\n",
    "flag = True\n",
    "\n",
    "for i,j in zip(t1,t2):\n",
    "    \n",
    "    if i != j:\n",
    "        print(f\"These are not same for {i , j}\")\n",
    "        flag = False\n",
    "        break\n",
    "if flag == True:\n",
    "    print(\"These are same\")"
   ]
  },
  {
   "cell_type": "code",
   "execution_count": 16,
   "metadata": {},
   "outputs": [
    {
     "name": "stdout",
     "output_type": "stream",
     "text": [
      "{<class 'set'>: 2, <class 'tuple'>: 1, <class 'list'>: 1, <class 'dict'>: 1}\n"
     ]
    }
   ],
   "source": [
    "L = [{\"hii\", \"buu\"}, {\"gajf\", \"sddsfdf\"}, (\"sdf\", \"sfd\"), [55, \"dfd\"], {\"gaur\": \"djfoif\"}]\n",
    "\n",
    "newDict = {}\n",
    "\n",
    "for i in L:\n",
    "    item_type = type(i)\n",
    "    # Check if the item type is already in newDict\n",
    "    if item_type in newDict:\n",
    "        # Increment the count\n",
    "        newDict[item_type] += 1\n",
    "    else:\n",
    "        # Initialize count to 1 for new item type\n",
    "        newDict[item_type] = 1\n",
    "\n",
    "print(newDict)\n"
   ]
  },
  {
   "cell_type": "code",
   "execution_count": null,
   "metadata": {},
   "outputs": [],
   "source": []
  }
 ],
 "metadata": {
  "kernelspec": {
   "display_name": "Python 3",
   "language": "python",
   "name": "python3"
  },
  "language_info": {
   "codemirror_mode": {
    "name": "ipython",
    "version": 3
   },
   "file_extension": ".py",
   "mimetype": "text/x-python",
   "name": "python",
   "nbconvert_exporter": "python",
   "pygments_lexer": "ipython3",
   "version": "3.10.11"
  }
 },
 "nbformat": 4,
 "nbformat_minor": 2
}
