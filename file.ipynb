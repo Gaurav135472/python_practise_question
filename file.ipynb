{
 "cells": [
  {
   "cell_type": "code",
   "execution_count": 4,
   "metadata": {},
   "outputs": [],
   "source": [
    "# case 1: if the file not present\n",
    "\n",
    "f = open(\"sample.txt\",\"w\")\n",
    "f.write(\"Hello world\")\n",
    "f.close()"
   ]
  },
  {
   "cell_type": "code",
   "execution_count": 5,
   "metadata": {},
   "outputs": [],
   "source": [
    "# write multiple lines\n",
    "\n",
    "f = open(\"sample.txt\", \"w\")\n",
    "\n",
    "f.write(\"Hello world\")\n",
    "f.write(\"\\n how are you ?\")\n",
    "\n",
    "f.close()"
   ]
  },
  {
   "cell_type": "code",
   "execution_count": 6,
   "metadata": {},
   "outputs": [],
   "source": [
    "# case 2 - if the file is already present\n",
    "\n",
    "f = open(\"sample.txt\",\"w\")\n",
    "\n",
    "f.write(\"Har har mahadev !!\")\n",
    "\n",
    "f.close()"
   ]
  },
  {
   "cell_type": "code",
   "execution_count": 7,
   "metadata": {},
   "outputs": [],
   "source": [
    "# problem with write module and introduction append mode \n",
    "\n",
    "f = open(\"sample.txt\", \"a\")\n",
    "\n",
    "f.write(\"Devadi dev mahadev !!\")\n",
    "\n",
    "f.close()"
   ]
  },
  {
   "cell_type": "code",
   "execution_count": 13,
   "metadata": {},
   "outputs": [],
   "source": [
    "# write lines\n",
    "\n",
    "l = (\"Om \\n\", \"Namah \\n\" , \"Shivay \\n\")\n",
    "\n",
    "f = open(\"sample.txt\", \"w\")\n",
    "\n",
    "f.writelines(l)\n",
    "f.close()"
   ]
  },
  {
   "cell_type": "code",
   "execution_count": 14,
   "metadata": {},
   "outputs": [
    {
     "name": "stdout",
     "output_type": "stream",
     "text": [
      "Om \n",
      "Namah \n",
      "Shivay \n",
      "\n"
     ]
    }
   ],
   "source": [
    "# reading from files using read()\n",
    "\n",
    "f = open(\"sample.txt\" , \"r\") \n",
    "print(f.read())\n",
    "f.close()"
   ]
  },
  {
   "cell_type": "code",
   "execution_count": 15,
   "metadata": {},
   "outputs": [
    {
     "name": "stdout",
     "output_type": "stream",
     "text": [
      "Om \n",
      "Namah \n"
     ]
    }
   ],
   "source": [
    "# reading upto n chars\n",
    "f = open(\"sample.txt\" , \"r\") \n",
    "print(f.read(10))\n",
    "f.close()\n"
   ]
  },
  {
   "cell_type": "code",
   "execution_count": 17,
   "metadata": {},
   "outputs": [
    {
     "name": "stdout",
     "output_type": "stream",
     "text": [
      "Om \n",
      "Namah \n",
      "\n",
      "Shivay \n",
      "\n"
     ]
    }
   ],
   "source": [
    "# readline() to read line by line\n",
    "\n",
    "f = open(\"sample.txt\" , \"r\") \n",
    "print(f.readline(), end=\"\")\n",
    "print(f.readline())\n",
    "print(f.readline())\n",
    "f.close()"
   ]
  },
  {
   "cell_type": "code",
   "execution_count": 21,
   "metadata": {},
   "outputs": [
    {
     "name": "stdout",
     "output_type": "stream",
     "text": [
      "Om \n",
      "Namah \n",
      "Shivay \n"
     ]
    }
   ],
   "source": [
    "# reading entire using readline\n",
    "\n",
    "f = open(\"sample.txt\" , \"r\")\n",
    "\n",
    "while True:\n",
    "    \n",
    "    data = f.readline()\n",
    "    \n",
    "    if data == \"\":\n",
    "        \n",
    "        break\n",
    "    else:\n",
    "        \n",
    "        print(data, end = \"\")\n",
    "        \n",
    "f.close()\n",
    "    \n",
    "f.close()"
   ]
  },
  {
   "cell_type": "code",
   "execution_count": 22,
   "metadata": {},
   "outputs": [],
   "source": [
    "# with\n",
    "\n",
    "with open(\"sample.txt\", \"w\") as f:\n",
    "    f.write(\"Mahadev\")"
   ]
  },
  {
   "cell_type": "code",
   "execution_count": 24,
   "metadata": {},
   "outputs": [
    {
     "name": "stdout",
     "output_type": "stream",
     "text": [
      "Mahadev\n"
     ]
    }
   ],
   "source": [
    "# try f.read() now with with keyword\n",
    "\n",
    "with open(\"sample.txt\", \"r\") as f:\n",
    "    print(f.read())"
   ]
  },
  {
   "cell_type": "code",
   "execution_count": 26,
   "metadata": {},
   "outputs": [
    {
     "name": "stdout",
     "output_type": "stream",
     "text": [
      "Maha\n",
      "dev\n"
     ]
    }
   ],
   "source": [
    "# moving within a file --> 10 char then 10 char\n",
    "\n",
    "with open(\"sample.txt\", \"r\") as f:\n",
    "    print(f.read(4))\n",
    "    print(f.read(4))"
   ]
  },
  {
   "cell_type": "code",
   "execution_count": 27,
   "metadata": {},
   "outputs": [],
   "source": [
    "# load big file in memory\n",
    "\n",
    "big_L = [\"Mahadev\" for i in range(1000)]\n",
    "\n",
    "with open(\"sample.txt\", \"w\") as f:\n",
    "    f.writelines(big_L)"
   ]
  },
  {
   "cell_type": "code",
   "execution_count": 31,
   "metadata": {},
   "outputs": [
    {
     "name": "stdout",
     "output_type": "stream",
     "text": [
      "adevMahade  evMahadevM  MahadevMah  hadevMahad  devMahadev  vMahadevMa  ahadevMaha  adevMahade  evMahadevM  MahadevMah  hadevMahad  devMahadev  vMahadevMa  ahadevMaha  adevMahade  evMahadevM  MahadevMah  hadevMahad  devMahadev  vMahadevMa  ahadevMaha  adevMahade  evMahadevM  MahadevMah  hadevMahad  devMahadev  vMahadevMa  ahadevMaha  adevMahade  evMahadevM  MahadevMah  hadevMahad  devMahadev  vMahadevMa  ahadevMaha  adevMahade  evMahadevM  MahadevMah  hadevMahad  devMahadev  vMahadevMa  ahadevMaha  adevMahade  evMahadevM  MahadevMah  hadevMahad  devMahadev  vMahadevMa  ahadevMaha  adevMahade  evMahadevM  MahadevMah  hadevMahad  devMahadev  vMahadevMa  ahadevMaha  adevMahade  evMahadevM  MahadevMah  hadevMahad  devMahadev  vMahadevMa  ahadevMaha  adevMahade  evMahadevM  MahadevMah  hadevMahad  devMahadev  vMahadevMa  ahadevMaha  adevMahade  evMahadevM  MahadevMah  hadevMahad  devMahadev  vMahadevMa  ahadevMaha  adevMahade  evMahadevM  MahadevMah  hadevMahad  devMahadev  vMahadevMa  ahadevMaha  adevMahade  evMahadevM  MahadevMah  hadevMahad  devMahadev  vMahadevMa  ahadevMaha  adevMahade  evMahadevM  MahadevMah  hadevMahad  devMahadev  vMahadevMa  ahadevMaha  adevMahade  evMahadevM  MahadevMah  hadevMahad  devMahadev  vMahadevMa  ahadevMaha  adevMahade  evMahadevM  MahadevMah  hadevMahad  devMahadev  vMahadevMa  ahadevMaha  adevMahade  evMahadevM  MahadevMah  hadevMahad  devMahadev  vMahadevMa  ahadevMaha  adevMahade  evMahadevM  MahadevMah  hadevMahad  devMahadev  vMahadevMa  ahadevMaha  adevMahade  evMahadevM  MahadevMah  hadevMahad  devMahadev  vMahadevMa  ahadevMaha  adevMahade  evMahadevM  MahadevMah  hadevMahad  devMahadev  vMahadevMa  ahadevMaha  adevMahade  evMahadevM  MahadevMah  hadevMahad  devMahadev  vMahadevMa  ahadevMaha  adevMahade  evMahadevM  MahadevMah  hadevMahad  devMahadev  vMahadevMa  ahadevMaha  adevMahade  evMahadevM  MahadevMah  hadevMahad  devMahadev  vMahadevMa  ahadevMaha  adevMahade  evMahadevM  MahadevMah  hadevMahad  devMahadev  vMahadevMa  ahadevMaha  adevMahade  evMahadevM  MahadevMah  hadevMahad  devMahadev  vMahadevMa  ahadevMaha  adevMahade  evMahadevM  MahadevMah  hadevMahad  devMahadev  vMahadevMa  ahadevMaha  adevMahade  evMahadevM  MahadevMah  hadevMahad  devMahadev  vMahadevMa  ahadevMaha  adevMahade  evMahadevM  MahadevMah  hadevMahad  devMahadev  vMahadevMa  ahadevMaha  adevMahade  evMahadevM  MahadevMah  hadevMahad  devMahadev  vMahadevMa  ahadevMaha  adevMahade  evMahadevM  MahadevMah  hadevMahad  devMahadev  vMahadevMa  ahadevMaha  adevMahade  evMahadevM  MahadevMah  hadevMahad  devMahadev  vMahadevMa  ahadevMaha  adevMahade  evMahadevM  MahadevMah  hadevMahad  devMahadev  vMahadevMa  ahadevMaha  adevMahade  evMahadevM  MahadevMah  hadevMahad  devMahadev  vMahadevMa  ahadevMaha  adevMahade  evMahadevM    "
     ]
    }
   ],
   "source": [
    "with open(\"sample.txt\") as f:\n",
    "    chunk_size = 10\n",
    "    \n",
    "    while len(f.read(chunk_size)) > 0:\n",
    "        print(f.read(chunk_size), end = \"  \")\n",
    "        f.read(chunk_size)\n",
    "        "
   ]
  },
  {
   "cell_type": "code",
   "execution_count": 33,
   "metadata": {},
   "outputs": [
    {
     "name": "stdout",
     "output_type": "stream",
     "text": [
      "MahadevMah\n",
      "10\n",
      "ahadevMaha\n",
      "25\n"
     ]
    }
   ],
   "source": [
    "# seek and tell function\n",
    "\n",
    "with open(\"sample.txt\", \"r\") as f:\n",
    "    print(f.read(10))\n",
    "    print(f.tell())\n",
    "    f.seek(15)\n",
    "    print(f.read(10))\n",
    "    print(f.tell())"
   ]
  },
  {
   "cell_type": "code",
   "execution_count": 34,
   "metadata": {},
   "outputs": [],
   "source": [
    "# seek during write\n",
    "\n",
    "with open(\"sample.txt\", \"w\") as f:\n",
    "    f.write(\"Hello\")\n",
    "    f.seek(0)\n",
    "    f.write(\"x\")"
   ]
  },
  {
   "cell_type": "code",
   "execution_count": 37,
   "metadata": {},
   "outputs": [],
   "source": [
    "# working with binary file \n",
    "\n",
    "with open(\"images.jpeg\", \"rb\") as f:\n",
    "    with open(\"imag.jpeg\", \"wb\") as wf:\n",
    "        wf.write(f.read())\n",
    "        \n",
    "    \n"
   ]
  },
  {
   "cell_type": "code",
   "execution_count": 38,
   "metadata": {},
   "outputs": [
    {
     "ename": "TypeError",
     "evalue": "write() argument must be str, not int",
     "output_type": "error",
     "traceback": [
      "\u001b[1;31m---------------------------------------------------------------------------\u001b[0m",
      "\u001b[1;31mTypeError\u001b[0m                                 Traceback (most recent call last)",
      "Cell \u001b[1;32mIn[38], line 4\u001b[0m\n\u001b[0;32m      1\u001b[0m \u001b[38;5;66;03m# working with other data type\u001b[39;00m\n\u001b[0;32m      3\u001b[0m \u001b[38;5;28;01mwith\u001b[39;00m \u001b[38;5;28mopen\u001b[39m(\u001b[38;5;124m\"\u001b[39m\u001b[38;5;124msample.txt\u001b[39m\u001b[38;5;124m\"\u001b[39m, \u001b[38;5;124m\"\u001b[39m\u001b[38;5;124mw\u001b[39m\u001b[38;5;124m\"\u001b[39m) \u001b[38;5;28;01mas\u001b[39;00m f:\n\u001b[1;32m----> 4\u001b[0m     \u001b[43mf\u001b[49m\u001b[38;5;241;43m.\u001b[39;49m\u001b[43mwrite\u001b[49m\u001b[43m(\u001b[49m\u001b[38;5;241;43m5\u001b[39;49m\u001b[43m)\u001b[49m\n",
      "\u001b[1;31mTypeError\u001b[0m: write() argument must be str, not int"
     ]
    }
   ],
   "source": [
    "# working with other data type\n",
    "\n",
    "with open(\"sample.txt\", \"w\") as f:\n",
    "    f.write(5)"
   ]
  },
  {
   "cell_type": "code",
   "execution_count": 39,
   "metadata": {},
   "outputs": [],
   "source": [
    "# more complex data type\n",
    "\n",
    "d = {\n",
    "    \"name\" : \"gaurav\",\n",
    "    \"age\" : \"15\",\n",
    "}\n",
    "\n",
    "with open(\"sample.txt\", \"w\") as f:\n",
    "    f.write(str(d))"
   ]
  },
  {
   "cell_type": "code",
   "execution_count": 43,
   "metadata": {},
   "outputs": [
    {
     "ename": "UnsupportedOperation",
     "evalue": "not readable",
     "output_type": "error",
     "traceback": [
      "\u001b[1;31m---------------------------------------------------------------------------\u001b[0m",
      "\u001b[1;31mUnsupportedOperation\u001b[0m                      Traceback (most recent call last)",
      "Cell \u001b[1;32mIn[43], line 2\u001b[0m\n\u001b[0;32m      1\u001b[0m \u001b[38;5;28;01mwith\u001b[39;00m \u001b[38;5;28mopen\u001b[39m(\u001b[38;5;124m\"\u001b[39m\u001b[38;5;124msample.txt\u001b[39m\u001b[38;5;124m\"\u001b[39m, \u001b[38;5;124m\"\u001b[39m\u001b[38;5;124mw\u001b[39m\u001b[38;5;124m\"\u001b[39m) \u001b[38;5;28;01mas\u001b[39;00m f:\n\u001b[1;32m----> 2\u001b[0m     \u001b[38;5;28mprint\u001b[39m(\u001b[38;5;28mtype\u001b[39m(\u001b[38;5;28mdict\u001b[39m(\u001b[43mf\u001b[49m\u001b[38;5;241;43m.\u001b[39;49m\u001b[43mread\u001b[49m\u001b[43m(\u001b[49m\u001b[43m)\u001b[49m)))\n",
      "\u001b[1;31mUnsupportedOperation\u001b[0m: not readable"
     ]
    }
   ],
   "source": [
    "with open(\"sample.txt\", \"w\") as f:\n",
    "    print(type(dict(f.read())))"
   ]
  },
  {
   "cell_type": "code",
   "execution_count": 44,
   "metadata": {},
   "outputs": [],
   "source": [
    "#  seralization  using json\n",
    "\n",
    "import json\n",
    "L = [1,2,3,4]\n",
    "\n",
    "with open(\"demo.json\",\"w\") as f:\n",
    "    json.dump(L,f)"
   ]
  },
  {
   "cell_type": "code",
   "execution_count": 45,
   "metadata": {},
   "outputs": [],
   "source": [
    "# dict adding into file with Json\n",
    "d = {\n",
    "    \"name\" : \"gaurav\",\n",
    "    \"age\" : \"15\",\n",
    "}\n",
    "with open(\"demo.json\",\"w\") as f:\n",
    "    json.dump(d,f, indent=4)\n"
   ]
  },
  {
   "cell_type": "code",
   "execution_count": 46,
   "metadata": {},
   "outputs": [
    {
     "name": "stdout",
     "output_type": "stream",
     "text": [
      "{'name': 'gaurav', 'age': '15'}\n"
     ]
    }
   ],
   "source": [
    "# deserialization \n",
    "\n",
    "import json\n",
    "\n",
    "with open(\"demo.json\",\"r\") as f:\n",
    "    d = json.load(f)\n",
    "    print(d)"
   ]
  },
  {
   "cell_type": "code",
   "execution_count": 48,
   "metadata": {},
   "outputs": [],
   "source": [
    "# serialize adn deserialization with touple\n",
    "\n",
    "import json\n",
    "\n",
    "t = (1,2,3,4)\n",
    "\n",
    "with open(\"demo.json\", \"w\") as f:\n",
    "    json.dump(t,f)"
   ]
  },
  {
   "cell_type": "code",
   "execution_count": 49,
   "metadata": {},
   "outputs": [],
   "source": [
    "d = {\n",
    "    \"name\" : \"gaurav\",\n",
    "    \"marks\" : [15,10,88,90],\n",
    "}\n",
    "\n",
    "with open(\"demo.json\",\"w\") as f:\n",
    "    json.dump(d,f, indent=4)"
   ]
  },
  {
   "cell_type": "code",
   "execution_count": 65,
   "metadata": {},
   "outputs": [],
   "source": [
    "# Python build data type serialize\n",
    "class Person:\n",
    "    def __init__(self, fname, lname, age, gender):\n",
    "        self.fname = fname\n",
    "        self.lname = lname\n",
    "        self.age = age\n",
    "        self.gender = gender"
   ]
  },
  {
   "cell_type": "code",
   "execution_count": 66,
   "metadata": {},
   "outputs": [],
   "source": [
    "def show_object(person):\n",
    "    if isinstance(person, Person):\n",
    "        return {\n",
    "            \"fname\": person.fname,\n",
    "            \"lname\": person.lname,\n",
    "            \"age\": person.age,\n",
    "            \"gender\": person.gender\n",
    "        }\n",
    "    raise TypeError(f\"Object of type '{type(person).__name__}' is not JSON serializable\")\n",
    "\n"
   ]
  },
  {
   "cell_type": "code",
   "execution_count": 67,
   "metadata": {},
   "outputs": [],
   "source": [
    "person = Person(\"Gaurav\", \"Patel\", 43, \"Male\")\n",
    "\n",
    "with open(\"demo.json\", \"w\") as f:\n",
    "    json.dump(person, f, default=show_object)"
   ]
  },
  {
   "cell_type": "markdown",
   "metadata": {},
   "source": [
    "# Pickling\n"
   ]
  },
  {
   "cell_type": "code",
   "execution_count": 72,
   "metadata": {},
   "outputs": [],
   "source": [
    "class Person:\n",
    "    def __init__(self, fname , age, ):\n",
    "        self.fname = fname\n",
    "        self.age = age\n",
    "    \n",
    "    def display_info(self):\n",
    "        print(\"Hi name is \", self.name, \"and I am \", self.age, \"Years old\")\n",
    "        \n",
    "        "
   ]
  },
  {
   "cell_type": "code",
   "execution_count": 74,
   "metadata": {},
   "outputs": [],
   "source": [
    "p = Person(\"Gaurav\", 21)"
   ]
  },
  {
   "cell_type": "code",
   "execution_count": 75,
   "metadata": {},
   "outputs": [],
   "source": [
    "# pickle dump\n",
    "\n",
    "import pickle\n",
    "\n",
    "with open(\"person.pkl\", \"wb\") as f:\n",
    "    pickle.dump(p,f)"
   ]
  },
  {
   "cell_type": "code",
   "execution_count": null,
   "metadata": {},
   "outputs": [],
   "source": []
  }
 ],
 "metadata": {
  "kernelspec": {
   "display_name": "Python 3",
   "language": "python",
   "name": "python3"
  },
  "language_info": {
   "codemirror_mode": {
    "name": "ipython",
    "version": 3
   },
   "file_extension": ".py",
   "mimetype": "text/x-python",
   "name": "python",
   "nbconvert_exporter": "python",
   "pygments_lexer": "ipython3",
   "version": "3.10.11"
  }
 },
 "nbformat": 4,
 "nbformat_minor": 2
}
